{
 "cells": [
  {
   "cell_type": "code",
   "execution_count": 12,
   "metadata": {},
   "outputs": [
    {
     "name": "stdout",
     "output_type": "stream",
     "text": [
      "C:\\Users\\Yayerad\\AppData\\Local\\Programs\\cursor\n",
      "C:\\Users\\Yayerad\\AppData\\Local\\Programs\n"
     ]
    }
   ],
   "source": [
    "import sys\n",
    "import os\n",
    "\n",
    "# Get theconda create --name talib python=3.9 current working directory\n",
    "current_dir = os.getcwd()\n",
    "print(current_dir)\n",
    "\n",
    "# Get the parent directory\n",
    "parent_dir = os.path.dirname(current_dir)\n",
    "print(parent_dir)\n",
    "\n",
    "#Insert the path to the parent directory\n",
    "sys.path.insert(0, parent_dir)\n"
   ]
  },
  {
   "cell_type": "code",
   "execution_count": 4,
   "metadata": {},
   "outputs": [
    {
     "name": "stdout",
     "output_type": "stream",
     "text": [
      "['c:\\\\Python312\\\\python312.zip', 'c:\\\\Python312\\\\DLLs', 'c:\\\\Python312\\\\Lib', 'c:\\\\Python312', '', 'C:\\\\Users\\\\Yayerad\\\\AppData\\\\Roaming\\\\Python\\\\Python312\\\\site-packages', 'C:\\\\Users\\\\Yayerad\\\\AppData\\\\Roaming\\\\Python\\\\Python312\\\\site-packages\\\\win32', 'C:\\\\Users\\\\Yayerad\\\\AppData\\\\Roaming\\\\Python\\\\Python312\\\\site-packages\\\\win32\\\\lib', 'C:\\\\Users\\\\Yayerad\\\\AppData\\\\Roaming\\\\Python\\\\Python312\\\\site-packages\\\\Pythonwin', 'c:\\\\Python312\\\\Lib\\\\site-packages', 'C:\\\\Users\\\\Yayerad\\\\AppData\\\\Local\\\\Programs\\\\scripts', 'C:\\\\Users\\\\Yayerad\\\\AppData\\\\Local\\\\Programs\\\\scripts']\n"
     ]
    }
   ],
   "source": [
    "import sys\n",
    "import os\n",
    "\n",
    "# Add the path to the scripts folder\n",
    "sys.path.append(os.path.abspath(os.path.join('..', 'scripts')))\n",
    "\n",
    "print(sys.path)\n"
   ]
  },
  {
   "cell_type": "code",
   "execution_count": 6,
   "metadata": {},
   "outputs": [
    {
     "ename": "ModuleNotFoundError",
     "evalue": "No module named 'db_loader'",
     "output_type": "error",
     "traceback": [
      "\u001b[1;31m---------------------------------------------------------------------------\u001b[0m",
      "\u001b[1;31mModuleNotFoundError\u001b[0m                       Traceback (most recent call last)",
      "Cell \u001b[1;32mIn[6], line 2\u001b[0m\n\u001b[0;32m      1\u001b[0m \u001b[38;5;66;03m# Import the custom loader script\u001b[39;00m\n\u001b[1;32m----> 2\u001b[0m \u001b[38;5;28;01mfrom\u001b[39;00m \u001b[38;5;21;01mdb_loader\u001b[39;00m \u001b[38;5;28;01mimport\u001b[39;00m load_data\n",
      "\u001b[1;31mModuleNotFoundError\u001b[0m: No module named 'db_loader'"
     ]
    }
   ],
   "source": [
    "# Import the custom loader script\n",
    "from db_loader import load_data\n"
   ]
  },
  {
   "cell_type": "code",
   "execution_count": null,
   "metadata": {},
   "outputs": [],
   "source": [
    "\n",
    "# Load data from the database into a DataFrame\n",
    "data = load_data()\n",
    "\n",
    "# Check if data is loaded\n",
    "if data is not None:\n",
    "    print(\"Data loaded successfully.\")\n",
    "    print(data.head())  # Display the first few rows of the data\n",
    "\n",
    "# Now run the queries on the DataFrame using pandas\n",
    "\n",
    "# Top 10 handsets used by customers\n",
    "top_10_handsets = data['handset_type'].value_counts().head(10)\n",
    "print(\"\\nTop 10 Handsets Used by Customers:\")\n",
    "print(top_10_handsets)\n",
    "\n",
    "# Top 3 handset manufacturers\n",
    "top_3_manufacturers = data['handset_manufacturer'].value_counts().head(3)\n",
    "print(\"\\nTop 3 Handset Manufacturers:\")\n",
    "print(top_3_manufacturers)\n",
    "\n",
    "# Top 5 handsets per top 3 manufacturers\n",
    "top_3_manufacturers_list = top_3_manufacturers.index.tolist()\n",
    "top_5_handsets_per_manufacturer = data[data['handset_manufacturer'].isin(top_3_manufacturers_list)] \\\n",
    "                                    .groupby(['handset_manufacturer', 'handset_type']) \\\n",
    "                                    .size() \\\n",
    "                                    .groupby(level=0, group_keys=False) \\\n",
    "                                    .nlargest(5)\n",
    "print(\"\\nTop 5 Handsets per Top 3 Manufacturers:\")\n",
    "print(top_5_handsets_per_manufacturer)\n",
    "\n",
    "# User behavior on applications (number of sessions, total data volume, etc.)\n",
    "user_behavior = data.groupby('user_id').agg({\n",
    "    'session_id': 'count',\n",
    "    'session_duration': 'sum',\n",
    "    'download_data': 'sum',\n",
    "    'upload_data': 'sum'\n",
    "})\n",
    "user_behavior['total_data_volume'] = user_behavior['download_data'] + user_behavior['upload_data']\n",
    "print(\"\\nUser Behavior Overview:\")\n",
    "print(user_behavior.head())\n"
   ]
  }
 ],
 "metadata": {
  "kernelspec": {
   "display_name": "Python 3",
   "language": "python",
   "name": "python3"
  },
  "language_info": {
   "codemirror_mode": {
    "name": "ipython",
    "version": 3
   },
   "file_extension": ".py",
   "mimetype": "text/x-python",
   "name": "python",
   "nbconvert_exporter": "python",
   "pygments_lexer": "ipython3",
   "version": "3.12.5"
  }
 },
 "nbformat": 4,
 "nbformat_minor": 2
}
